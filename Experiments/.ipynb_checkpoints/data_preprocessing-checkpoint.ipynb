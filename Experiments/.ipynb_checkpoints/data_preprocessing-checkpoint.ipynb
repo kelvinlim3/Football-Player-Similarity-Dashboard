{
 "cells": [
  {
   "cell_type": "code",
   "execution_count": null,
   "id": "28c75f79",
   "metadata": {},
   "outputs": [],
   "source": [
    "# preliminaries\n",
    "import pandas as pd\n",
    "from datetime import date"
   ]
  },
  {
   "cell_type": "code",
   "execution_count": null,
   "id": "562ee826",
   "metadata": {},
   "outputs": [],
   "source": [
    "# paths for csv files for each position\n",
    "CB_DATA_PATH = 'Data/data_cb.csv'\n",
    "FB_DATA_PATH = 'Data/data_fb.csv'\n",
    "DM_DATA_PATH = 'Data/data_dm.csv'\n",
    "M_DATA_PATH = 'Data/data_m.csv'\n",
    "W_DATA_PATH = 'Data/data_w.csv'\n",
    "CF_DATA_PATH = 'Data/data_cf.csv'"
   ]
  },
  {
   "cell_type": "code",
   "execution_count": null,
   "id": "585f96cc",
   "metadata": {},
   "outputs": [],
   "source": [
    "# load dataframes for each position\n",
    "cb_df = pd.read_csv(CB_DATA_PATH)\n",
    "fb_df = pd.read_csv(FB_DATA_PATH)\n",
    "dm_df = pd.read_csv(DM_DATA_PATH)\n",
    "m_df = pd.read_csv(M_DATA_PATH)\n",
    "w_df = pd.read_csv(W_DATA_PATH)\n",
    "cf_df = pd.read_csv(CF_DATA_PATH)"
   ]
  },
  {
   "cell_type": "code",
   "execution_count": null,
   "id": "970a3eff",
   "metadata": {},
   "outputs": [],
   "source": [
    "# drop ord column\n",
    "cb_df = cb_df.drop(columns='Ord')\n",
    "fb_df = fb_df.drop(columns='Ord')\n",
    "dm_df = dm_df.drop(columns='Ord')\n",
    "m_df = m_df.drop(columns='Ord')\n",
    "w_df = w_df.drop(columns='Ord')\n",
    "cf_df = cf_df.drop(columns='Ord')"
   ]
  },
  {
   "cell_type": "code",
   "execution_count": null,
   "id": "69cffbc2",
   "metadata": {},
   "outputs": [],
   "source": [
    "# replace spaces with underscores and lowercase column names\n",
    "cb_df.columns = [col.replace(' ', '_').lower() for col in cb_df.columns]\n",
    "fb_df.columns = [col.replace(' ', '_').lower() for col in fb_df.columns]\n",
    "dm_df.columns = [col.replace(' ', '_').lower() for col in dm_df.columns]\n",
    "m_df.columns = [col.replace(' ', '_').lower() for col in m_df.columns]\n",
    "w_df.columns = [col.replace(' ', '_').lower() for col in w_df.columns]\n",
    "cf_df.columns = [col.replace(' ', '_').lower() for col in cf_df.columns]"
   ]
  },
  {
   "cell_type": "code",
   "execution_count": null,
   "id": "3958e12e",
   "metadata": {},
   "outputs": [],
   "source": [
    "# rename `player_name` column to `player_details`\n",
    "cb_df = cb_df.rename(columns={'player_name': 'player_details'})\n",
    "fb_df = fb_df.rename(columns={'player_name': 'player_details'})\n",
    "dm_df = dm_df.rename(columns={'player_name': 'player_details'})\n",
    "m_df = m_df.rename(columns={'player_name': 'player_details'})\n",
    "w_df = w_df.rename(columns={'player_name': 'player_details'})\n",
    "cf_df = cf_df.rename(columns={'player_name': 'player_details'})"
   ]
  },
  {
   "cell_type": "code",
   "execution_count": null,
   "id": "ee5c5588",
   "metadata": {},
   "outputs": [],
   "source": [
    "# add a column `player_name`\n",
    "cb_player_names = [row.player_details.replace(row.team_id, '').replace(str(row.season), '').strip() for index, row\n",
    "                   in cb_df.iterrows()]\n",
    "cb_df.insert(1, 'player_name', cb_player_names)\n",
    "fb_player_names = [row.player_details.replace(row.team_id, '').replace(str(row.season), '').strip() for index, row\n",
    "                   in fb_df.iterrows()]\n",
    "fb_df.insert(1, 'player_name', fb_player_names)\n",
    "dm_player_names = [row.player_details.replace(row.team_id, '').replace(str(row.season), '').strip() for index, row\n",
    "                   in dm_df.iterrows()]\n",
    "dm_df.insert(1, 'player_name', dm_player_names)\n",
    "m_player_names = [row.player_details.replace(row.team_id, '').replace(str(row.season), '').strip() for index, row in\n",
    "                  m_df.iterrows()]\n",
    "m_df.insert(1, 'player_name', m_player_names)\n",
    "w_player_names = [row.player_details.replace(row.team_id, '').replace(str(row.season), '').strip() for index, row in\n",
    "                  w_df.iterrows()]\n",
    "w_df.insert(1, 'player_name', w_player_names)\n",
    "cf_player_names = [row.player_details.replace(row.team_id, '').replace(str(row.season), '').strip() for index, row\n",
    "                   in cf_df.iterrows()]\n",
    "cf_df.insert(1, 'player_name', cf_player_names)"
   ]
  },
  {
   "cell_type": "code",
   "execution_count": null,
   "id": "37d1e6c2",
   "metadata": {},
   "outputs": [],
   "source": []
  }
 ],
 "metadata": {
  "kernelspec": {
   "display_name": "Python 3 (ipykernel)",
   "language": "python",
   "name": "python3"
  },
  "language_info": {
   "codemirror_mode": {
    "name": "ipython",
    "version": 3
   },
   "file_extension": ".py",
   "mimetype": "text/x-python",
   "name": "python",
   "nbconvert_exporter": "python",
   "pygments_lexer": "ipython3",
   "version": "3.8.3"
  }
 },
 "nbformat": 4,
 "nbformat_minor": 5
}
