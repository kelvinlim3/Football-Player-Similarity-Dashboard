{
 "cells": [
  {
   "cell_type": "code",
   "execution_count": 2,
   "id": "51db6808",
   "metadata": {},
   "outputs": [],
   "source": [
    "# preliminaries\n",
    "import pandas as pd\n",
    "import numpy as np\n",
    "from sklearn.mixture import GaussianMixture\n",
    "from sklearn.cluster import KMeans"
   ]
  },
  {
   "cell_type": "code",
   "execution_count": 1,
   "id": "a36b9c14",
   "metadata": {},
   "outputs": [],
   "source": [
    "# paths to dataframe csv files\n",
    "DF_FULL_PATH = 'Data/df_full.csv'"
   ]
  },
  {
   "cell_type": "code",
   "execution_count": 3,
   "id": "bdcd8acb",
   "metadata": {},
   "outputs": [],
   "source": [
    "# load dataframes for each position\n",
    "df_full = pd.read_csv(DF_FULL_PATH, index_col=0)\n",
    "cb_df = df_full[df_full.position=='CB']\n",
    "fb_df = df_full[df_full.position=='FB']\n",
    "dm_df = df_full[df_full.position=='DM']\n",
    "m_df = df_full[df_full.position=='M']\n",
    "w_df = df_full[df_full.position=='W']\n",
    "cf_df = df_full[df_full.position=='CF']"
   ]
  },
  {
   "cell_type": "code",
   "execution_count": 4,
   "id": "df5fe6b9",
   "metadata": {},
   "outputs": [],
   "source": [
    "RAW_TRAITS = ['goals', 'shots', 'conversion', 'positioning', 'assists', 'crossing', 'dribbling', 'carries',\n",
    "              'involvement', 'accuracy', 'intent', 'receiving', 'aerial', 'on_ball', 'off_ball', 'fouls']"
   ]
  },
  {
   "cell_type": "code",
   "execution_count": 5,
   "id": "b61a3922",
   "metadata": {},
   "outputs": [],
   "source": [
    "# get raw traits per position as numpy array\n",
    "cb_raw_traits = cb_df[RAW_TRAITS].to_numpy()\n",
    "fb_raw_traits = fb_df[RAW_TRAITS].to_numpy()\n",
    "dm_raw_traits = dm_df[RAW_TRAITS].to_numpy()\n",
    "m_raw_traits = m_df[RAW_TRAITS].to_numpy()\n",
    "w_raw_traits = w_df[RAW_TRAITS].to_numpy()\n",
    "cf_raw_traits = cf_df[RAW_TRAITS].to_numpy()"
   ]
  },
  {
   "cell_type": "markdown",
   "id": "52404df4",
   "metadata": {},
   "source": [
    "### K-means"
   ]
  },
  {
   "cell_type": "code",
   "execution_count": 6,
   "id": "2a91e74f",
   "metadata": {},
   "outputs": [
    {
     "ename": "TypeError",
     "evalue": "'float' object cannot be interpreted as an integer",
     "output_type": "error",
     "traceback": [
      "\u001b[1;31m---------------------------------------------------------------------------\u001b[0m",
      "\u001b[1;31mTypeError\u001b[0m                                 Traceback (most recent call last)",
      "\u001b[1;32m~\\AppData\\Local\\Temp/ipykernel_10424/2963709308.py\u001b[0m in \u001b[0;36m<module>\u001b[1;34m\u001b[0m\n\u001b[0;32m      8\u001b[0m \u001b[1;33m\u001b[0m\u001b[0m\n\u001b[0;32m      9\u001b[0m \u001b[1;31m# fit models\u001b[0m\u001b[1;33m\u001b[0m\u001b[1;33m\u001b[0m\u001b[1;33m\u001b[0m\u001b[0m\n\u001b[1;32m---> 10\u001b[1;33m \u001b[0mkmeans_cb\u001b[0m \u001b[1;33m=\u001b[0m \u001b[0mkmeans_cb\u001b[0m\u001b[1;33m.\u001b[0m\u001b[0mfit\u001b[0m\u001b[1;33m(\u001b[0m\u001b[0mcb_raw_traits\u001b[0m\u001b[1;33m)\u001b[0m\u001b[1;33m\u001b[0m\u001b[1;33m\u001b[0m\u001b[0m\n\u001b[0m\u001b[0;32m     11\u001b[0m \u001b[0mkmeans_fb\u001b[0m \u001b[1;33m=\u001b[0m \u001b[0mkmeans_fb\u001b[0m\u001b[1;33m.\u001b[0m\u001b[0mfit\u001b[0m\u001b[1;33m(\u001b[0m\u001b[0mfb_raw_traits\u001b[0m\u001b[1;33m)\u001b[0m\u001b[1;33m\u001b[0m\u001b[1;33m\u001b[0m\u001b[0m\n\u001b[0;32m     12\u001b[0m \u001b[0mkmeans_dm\u001b[0m \u001b[1;33m=\u001b[0m \u001b[0mkmeans_dm\u001b[0m\u001b[1;33m.\u001b[0m\u001b[0mfit\u001b[0m\u001b[1;33m(\u001b[0m\u001b[0mdm_raw_traits\u001b[0m\u001b[1;33m)\u001b[0m\u001b[1;33m\u001b[0m\u001b[1;33m\u001b[0m\u001b[0m\n",
      "\u001b[1;32m~\\anaconda3\\lib\\site-packages\\sklearn\\cluster\\_kmeans.py\u001b[0m in \u001b[0;36mfit\u001b[1;34m(self, X, y, sample_weight)\u001b[0m\n\u001b[0;32m   1014\u001b[0m         \u001b[1;32mfor\u001b[0m \u001b[0mi\u001b[0m \u001b[1;32min\u001b[0m \u001b[0mrange\u001b[0m\u001b[1;33m(\u001b[0m\u001b[0mself\u001b[0m\u001b[1;33m.\u001b[0m\u001b[0m_n_init\u001b[0m\u001b[1;33m)\u001b[0m\u001b[1;33m:\u001b[0m\u001b[1;33m\u001b[0m\u001b[1;33m\u001b[0m\u001b[0m\n\u001b[0;32m   1015\u001b[0m             \u001b[1;31m# Initialize centers\u001b[0m\u001b[1;33m\u001b[0m\u001b[1;33m\u001b[0m\u001b[1;33m\u001b[0m\u001b[0m\n\u001b[1;32m-> 1016\u001b[1;33m             centers_init = self._init_centroids(\n\u001b[0m\u001b[0;32m   1017\u001b[0m                 \u001b[0mX\u001b[0m\u001b[1;33m,\u001b[0m \u001b[0mx_squared_norms\u001b[0m\u001b[1;33m=\u001b[0m\u001b[0mx_squared_norms\u001b[0m\u001b[1;33m,\u001b[0m \u001b[0minit\u001b[0m\u001b[1;33m=\u001b[0m\u001b[0minit\u001b[0m\u001b[1;33m,\u001b[0m\u001b[1;33m\u001b[0m\u001b[1;33m\u001b[0m\u001b[0m\n\u001b[0;32m   1018\u001b[0m                 random_state=random_state)\n",
      "\u001b[1;32m~\\anaconda3\\lib\\site-packages\\sklearn\\cluster\\_kmeans.py\u001b[0m in \u001b[0;36m_init_centroids\u001b[1;34m(self, X, x_squared_norms, init, random_state, init_size)\u001b[0m\n\u001b[0;32m    932\u001b[0m \u001b[1;33m\u001b[0m\u001b[0m\n\u001b[0;32m    933\u001b[0m         \u001b[1;32mif\u001b[0m \u001b[0misinstance\u001b[0m\u001b[1;33m(\u001b[0m\u001b[0minit\u001b[0m\u001b[1;33m,\u001b[0m \u001b[0mstr\u001b[0m\u001b[1;33m)\u001b[0m \u001b[1;32mand\u001b[0m \u001b[0minit\u001b[0m \u001b[1;33m==\u001b[0m \u001b[1;34m'k-means++'\u001b[0m\u001b[1;33m:\u001b[0m\u001b[1;33m\u001b[0m\u001b[1;33m\u001b[0m\u001b[0m\n\u001b[1;32m--> 934\u001b[1;33m             centers, _ = _kmeans_plusplus(X, n_clusters,\n\u001b[0m\u001b[0;32m    935\u001b[0m                                           \u001b[0mrandom_state\u001b[0m\u001b[1;33m=\u001b[0m\u001b[0mrandom_state\u001b[0m\u001b[1;33m,\u001b[0m\u001b[1;33m\u001b[0m\u001b[1;33m\u001b[0m\u001b[0m\n\u001b[0;32m    936\u001b[0m                                           x_squared_norms=x_squared_norms)\n",
      "\u001b[1;32m~\\anaconda3\\lib\\site-packages\\sklearn\\cluster\\_kmeans.py\u001b[0m in \u001b[0;36m_kmeans_plusplus\u001b[1;34m(X, n_clusters, x_squared_norms, random_state, n_local_trials)\u001b[0m\n\u001b[0;32m     85\u001b[0m     \u001b[0mn_samples\u001b[0m\u001b[1;33m,\u001b[0m \u001b[0mn_features\u001b[0m \u001b[1;33m=\u001b[0m \u001b[0mX\u001b[0m\u001b[1;33m.\u001b[0m\u001b[0mshape\u001b[0m\u001b[1;33m\u001b[0m\u001b[1;33m\u001b[0m\u001b[0m\n\u001b[0;32m     86\u001b[0m \u001b[1;33m\u001b[0m\u001b[0m\n\u001b[1;32m---> 87\u001b[1;33m     \u001b[0mcenters\u001b[0m \u001b[1;33m=\u001b[0m \u001b[0mnp\u001b[0m\u001b[1;33m.\u001b[0m\u001b[0mempty\u001b[0m\u001b[1;33m(\u001b[0m\u001b[1;33m(\u001b[0m\u001b[0mn_clusters\u001b[0m\u001b[1;33m,\u001b[0m \u001b[0mn_features\u001b[0m\u001b[1;33m)\u001b[0m\u001b[1;33m,\u001b[0m \u001b[0mdtype\u001b[0m\u001b[1;33m=\u001b[0m\u001b[0mX\u001b[0m\u001b[1;33m.\u001b[0m\u001b[0mdtype\u001b[0m\u001b[1;33m)\u001b[0m\u001b[1;33m\u001b[0m\u001b[1;33m\u001b[0m\u001b[0m\n\u001b[0m\u001b[0;32m     88\u001b[0m \u001b[1;33m\u001b[0m\u001b[0m\n\u001b[0;32m     89\u001b[0m     \u001b[1;31m# Set the number of local seeding trials if none is given\u001b[0m\u001b[1;33m\u001b[0m\u001b[1;33m\u001b[0m\u001b[1;33m\u001b[0m\u001b[0m\n",
      "\u001b[1;31mTypeError\u001b[0m: 'float' object cannot be interpreted as an integer"
     ]
    }
   ],
   "source": [
    "# create models\n",
    "kmeans_cb = KMeans(n_clusters=cb_raw_traits.shape[0]/20)\n",
    "kmeans_fb = KMeans(n_clusters=fb_raw_traits.shape[0]/20)\n",
    "kmeans_dm = KMeans(n_clusters=dm_raw_traits.shape[0]/20)\n",
    "kmeans_m = KMeans(n_clusters=m_raw_traits.shape[0]/20)\n",
    "kmeans_w = KMeans(n_clusters=w_raw_traits.shape[0]/20)\n",
    "kmeans_cf = KMeans(n_clusters=cf_raw_traits.shape[0]/20)\n",
    "\n",
    "# fit models\n",
    "kmeans_cb = kmeans_cb.fit(cb_raw_traits)\n",
    "kmeans_fb = kmeans_fb.fit(fb_raw_traits)\n",
    "kmeans_dm = kmeans_dm.fit(dm_raw_traits)\n",
    "kmeans_m = kmeans_m.fit(m_raw_traits)\n",
    "kmeans_w = kmeans_w.fit(w_raw_traits)\n",
    "kmeans_cf = kmeans_cf.fit(cf_raw_traits)"
   ]
  },
  {
   "cell_type": "code",
   "execution_count": null,
   "id": "cd739ca3",
   "metadata": {},
   "outputs": [],
   "source": [
    "# get scores for each position\n",
    "kmeans_cb_scores = kmeans_cb.predict_proba(cb_raw_traits)\n",
    "kmeans_fb_scores = kmeans_fb.predict_proba(fb_raw_traits)\n",
    "kmeans_dm_scores = kmeans_dm.predict_proba(dm_raw_traits)\n",
    "kmeans_m_scores = kmeans_m.predict_proba(m_raw_traits)\n",
    "kmeans_w_scores = kmeans_w.predict_proba(w_raw_traits)\n",
    "kmeans_cf_scores = kmeans_cf.predict_proba(cf_raw_traits)"
   ]
  },
  {
   "cell_type": "markdown",
   "id": "026da7e8",
   "metadata": {},
   "source": [
    "### Gaussian Mixture Model"
   ]
  },
  {
   "cell_type": "code",
   "execution_count": null,
   "id": "3b188eb5",
   "metadata": {},
   "outputs": [],
   "source": [
    "# create models\n",
    "gmm_cb = GaussianMixture(n_components=cb_raw_traits.shape[0]/20)\n",
    "gmm_fb = GaussianMixture(n_components=fb_raw_traits.shape[0]/20)\n",
    "gmm_dm = GaussianMixture(n_components=dm_raw_traits.shape[0]/20)\n",
    "gmm_m = GaussianMixture(n_components=m_raw_traits.shape[0]/20)\n",
    "gmm_w = GaussianMixture(n_components=w_raw_traits.shape[0]/20)\n",
    "gmm_cf = GaussianMixture(n_components=cf_raw_traits.shape[0]/20)\n",
    "\n",
    "# fit models\n",
    "gmm_cb = gmm_cb.fit(cb_raw_traits)\n",
    "gmm_fb = gmm_fb.fit(fb_raw_traits)\n",
    "gmm_dm = gmm_dm.fit(dm_raw_traits)\n",
    "gmm_m = gmm_m.fit(m_raw_traits)\n",
    "gmm_w = gmm_w.fit(w_raw_traits)\n",
    "gmm_cf = gmm_cf.fit(cf_raw_traits)\n"
   ]
  },
  {
   "cell_type": "code",
   "execution_count": null,
   "id": "21529c42",
   "metadata": {},
   "outputs": [],
   "source": [
    "# get scores for each position\n",
    "gmm_cb_scores = gmm_cb.predict_proba(cb_raw_traits)\n",
    "gmm_fb_scores = gmm_fb.predict_proba(fb_raw_traits)\n",
    "gmm_dm_scores = gmm_dm.predict_proba(dm_raw_traits)\n",
    "gmm_m_scores = gmm_m.predict_proba(m_raw_traits)\n",
    "gmm_w_scores = gmm_w.predict_proba(w_raw_traits)\n",
    "gmm_cf_scores = gmm_cf.predict_proba(cf_raw_traits)"
   ]
  },
  {
   "cell_type": "code",
   "execution_count": null,
   "id": "82af8018",
   "metadata": {},
   "outputs": [],
   "source": []
  },
  {
   "cell_type": "code",
   "execution_count": null,
   "id": "19cd2ed2",
   "metadata": {},
   "outputs": [],
   "source": []
  }
 ],
 "metadata": {
  "kernelspec": {
   "display_name": "Python 3 (ipykernel)",
   "language": "python",
   "name": "python3"
  },
  "language_info": {
   "codemirror_mode": {
    "name": "ipython",
    "version": 3
   },
   "file_extension": ".py",
   "mimetype": "text/x-python",
   "name": "python",
   "nbconvert_exporter": "python",
   "pygments_lexer": "ipython3",
   "version": "3.8.3"
  }
 },
 "nbformat": 4,
 "nbformat_minor": 5
}
